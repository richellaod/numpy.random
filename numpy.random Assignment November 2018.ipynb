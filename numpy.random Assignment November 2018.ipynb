{
 "cells": [
  {
   "cell_type": "markdown",
   "metadata": {},
   "source": [
    "# Programming for Data Analysis Assignment November 2018"
   ]
  },
  {
   "cell_type": "markdown",
   "metadata": {},
   "source": [
    "## Richella O'Driscoll"
   ]
  },
  {
   "cell_type": "markdown",
   "metadata": {},
   "source": [
    "## H.Dip in Data Analytics"
   ]
  },
  {
   "cell_type": "markdown",
   "metadata": {},
   "source": [
    "## Problem Statement\n",
    "\n",
    "The following assignment concerns the numpy.random package in Python. I am required to create a Jupyter notebook explaining the use of the package, including detailed explanation of at least five of the distributions provided for in the package.\n",
    "There are four distinct tasks which must be carried out in the Jupyter notebook:\n",
    "\n",
    "* Explain the overall purpose of the package\n",
    "* Explain the use of the \"Simple Random Data\" and \"Permutations\" functions\n",
    "* Explain the use and purpose of at least five \"Distributions\" functions\n",
    "* Explain the use of seeds in generating pseudorandom numbers\n"
   ]
  },
  {
   "cell_type": "markdown",
   "metadata": {},
   "source": [
    "# NumPy.random package"
   ]
  },
  {
   "cell_type": "markdown",
   "metadata": {},
   "source": [
    "NumPy is a popular data analysis package that is used with through the Python programming language. When we use numpy we can speed up workflow by a significant percentage and also, use alongside other popular python packages such as scikit-learn.\n",
    "\n",
    "What NumPy is, is a Python library which provides a multidimensional array object, various derived objects (like matrices and masked arrays), and also an assortment of routines for extremely fast operations on arrays, which includes mathematical, logical, shape manipulation, random simulation sorting and basic linear algebra.\n",
    "\n",
    "NumPy was released in 2006 by a number of contributors such as David Ascher, Konrad Hinsen and Travis Oliphant, Paul Dubois, Jim Hugunin and Jim Fulton and was an updated version of a previous package known as “Numeric”. Almost all machine learning or data analysis packages that are available in Python leverage NumPy is one way or another."
   ]
  },
  {
   "cell_type": "markdown",
   "metadata": {},
   "source": [
    "## My Analysis\n",
    "\n",
    "In order for me to compete this assignment, there were a number of resources I needed. These included:\n",
    "* Jupyter Notebook\n",
    "* Github\n",
    "* Python version 3.6 downloaded through Anaconda3\n",
    "\n",
    "\n",
    "After a lot of research I realised that I would also need to ensure that there was a number of other libraries installed on Python so that I would be able to complete this assignment. These included matplotlib, numpy and pandas."
   ]
  },
  {
   "cell_type": "markdown",
   "metadata": {},
   "source": [
    "# The use of \"Simple Random Data\" and \"Permutations\" Functions"
   ]
  },
  {
   "cell_type": "markdown",
   "metadata": {},
   "source": [
    "# Simple Random Data\n",
    "\n",
    "Simple Random Data generates random values depending on which specific function you choose to select. There are ten functions within Simple Random Data that can be used the generate random data. These include:\n",
    "\n",
    "* rand(d0, d1, ..., dn)  which returns random values in a given shape.\n",
    "* randint(low[, high, size, dtype]) which returns random integers from low (inclusive) to high (exclusive).\n",
    "* random([size]) [0.0, 1.0) which returns random floats in the half-open interval.\n",
    "* randn(d0, d1, ..., dn)  which returns a sample (or samples) from the “standard normal” distribution.\n",
    "\n"
   ]
  },
  {
   "cell_type": "markdown",
   "metadata": {},
   "source": [
    "# Permutations\n",
    "\n",
    "There are two functions which can be used under Permutations - Permutations and the Shuffle Function."
   ]
  },
  {
   "cell_type": "markdown",
   "metadata": {},
   "source": [
    "## Permutations\n",
    "\n",
    "What permutations does is, it adjusts a series of numbers in a completely random manner. \n",
    "\n",
    "There are three main ways in which it can do this. The first being, if the order of numbers selected is a multi-dimensional array, it will display an array that was shuffled onward its first index. Secondly, if the order of numbers is an array, the function will display a shuffled version of the array. Finally if the order of numbers used is an integer, it will display the np.arange(X) in a random way.\n"
   ]
  },
  {
   "cell_type": "code",
   "execution_count": 3,
   "metadata": {},
   "outputs": [],
   "source": [
    "import pandas as pd  # Data manipulation\n",
    "import matplotlib.pyplot as plt  # Plots\n",
    "import seaborn as sns  # Powerful plots\n",
    "import numpy as np  # Quick summary statistics"
   ]
  },
  {
   "cell_type": "code",
   "execution_count": 17,
   "metadata": {},
   "outputs": [
    {
     "data": {
      "text/plain": [
       "array([23, 25, 11, 32, 16, 10, 35, 13, 19, 27,  4, 30, 24, 26, 15, 21, 28,\n",
       "       34, 36,  1, 12, 29, 33,  9,  3,  8, 18, 31, 22,  6,  7, 17, 14,  0,\n",
       "       20,  2,  5])"
      ]
     },
     "execution_count": 17,
     "metadata": {},
     "output_type": "execute_result"
    }
   ],
   "source": [
    "#Example of Permutation Function\n",
    "\n",
    "np.random.permutation(37) #Displays numbers between 0 and 36 in a random manner"
   ]
  },
  {
   "cell_type": "code",
   "execution_count": 8,
   "metadata": {},
   "outputs": [
    {
     "data": {
      "text/plain": [
       "array([104, 256, 810, 567,   4,   7,   1,  88])"
      ]
     },
     "execution_count": 8,
     "metadata": {},
     "output_type": "execute_result"
    }
   ],
   "source": [
    "np.random.permutation ([1, 4, 7, 88, 104, 256, 567, 810]) #Displays numbers selected in a random manner"
   ]
  },
  {
   "cell_type": "markdown",
   "metadata": {},
   "source": [
    "## Shuffle Function\n",
    "\n",
    "The shuffle function within permutations changes the order in which the numbers appear, it does not change the numbers within the array itself. It shuffles its contents – Hence the name."
   ]
  },
  {
   "cell_type": "code",
   "execution_count": 18,
   "metadata": {},
   "outputs": [
    {
     "data": {
      "text/plain": [
       "array([[0.31971315, 0.48206593],\n",
       "       [0.25787305, 0.47404055],\n",
       "       [0.28270281, 0.94851495],\n",
       "       [0.03503357, 0.88720157],\n",
       "       [0.56058568, 0.31494589],\n",
       "       [0.70045759, 0.1401566 ],\n",
       "       [0.01265833, 0.88872153],\n",
       "       [0.36985995, 0.09144966],\n",
       "       [0.98237688, 0.53230533],\n",
       "       [0.57105763, 0.93190933],\n",
       "       [0.94484608, 0.1709702 ],\n",
       "       [0.88856821, 0.05810967]])"
      ]
     },
     "execution_count": 18,
     "metadata": {},
     "output_type": "execute_result"
    }
   ],
   "source": [
    "#Example of Shuffle Function\n",
    "\n",
    "R = np.random.random((12, 2))\n",
    "\n",
    "R"
   ]
  },
  {
   "cell_type": "code",
   "execution_count": 16,
   "metadata": {},
   "outputs": [
    {
     "data": {
      "text/plain": [
       "array([[0.70479125, 0.84458364],\n",
       "       [0.67878369, 0.93630988],\n",
       "       [0.26174153, 0.28637673],\n",
       "       [0.97349805, 0.83766907],\n",
       "       [0.31508555, 0.05141688],\n",
       "       [0.23392012, 0.95369294],\n",
       "       [0.12408934, 0.38267015],\n",
       "       [0.91337772, 0.26101873],\n",
       "       [0.7282226 , 0.42485199],\n",
       "       [0.74843879, 0.84438948],\n",
       "       [0.99713465, 0.61772279],\n",
       "       [0.82255449, 0.37285371]])"
      ]
     },
     "execution_count": 16,
     "metadata": {},
     "output_type": "execute_result"
    }
   ],
   "source": [
    "np.random.shuffle (R)\n",
    "\n",
    "R"
   ]
  },
  {
   "cell_type": "markdown",
   "metadata": {},
   "source": [
    "# The use and purpose of at least five \"Distributions\" functions"
   ]
  },
  {
   "cell_type": "markdown",
   "metadata": {},
   "source": [
    "There are over 30 different so-called distributions functions available in the NumPy.random package. All of these are in some way related to different probability distributions. For the purpose of this assignment the 5 which I will focus on are:\n",
    "\n",
    "1.\tNormal Distribution\n",
    "2.\tStandard Normal Distribution\n",
    "3.\tUniform Distribution\n",
    "4.\tPoisson Distribution\n",
    "5.\tBinomial Distribution\n"
   ]
  },
  {
   "cell_type": "markdown",
   "metadata": {},
   "source": [
    "# Normal Distribution\n",
    "\n",
    "A normal distribution, which is sometimes called the bell curve, is a distribution that can occur naturally in a number of situations. For example, the bell curve is seen in tests like the Leaving Certificate. The majority of students who undertake these exams will score the average  grade which is a C, while a smaller percentage of students will achieve a grade of a D or B. Then an even smaller percentage of students achieve a grade of an A or an F. As a result, this leads to the creation of a distribution that looks like a bell.\n",
    "\n",
    "As we all know a bell curve is symmetrical. This means that 50 per cent of the results will fall to the left of the mean; 50 per cent will fall to the right.\n",
    "\n",
    "Normal Distributions is widely used by government and statistics bodies. It can be used to measure Points on a test, Salaries. Blood pressure and IQ scores.\n",
    "\n",
    "The empirical rule which states that for a normal distribution, nearly all of the data will fall within three standard deviations of the mean. tells you what percentage of your data falls within a certain number of standard deviations from the mean:• 68% of the data falls within one standard deviation of the mean.• 95% of the data falls within two standard deviations of the mean.• 99.7% of the data falls within three standard deviations of the mean.\n"
   ]
  },
  {
   "cell_type": "markdown",
   "metadata": {},
   "source": [
    "The conditions that are normally used in Normal Distribution are loc (which is the mean/average of the distribution), scale (which is the Standard Deviation of the distribution) and size. Loc and scale will normally be a float or an array of floats, while size should be integer or a series of integers."
   ]
  },
  {
   "cell_type": "code",
   "execution_count": 25,
   "metadata": {},
   "outputs": [
    {
     "data": {
      "image/png": "[encoded data removed]",
      "text/plain": [
       "<Figure size 432x288 with 1 Axes>"
      ]
     },
     "metadata": {
      "needs_background": "light"
     },
     "output_type": "display_data"
    }
   ],
   "source": [
    "loc = 0\n",
    "sc = 0.25\n",
    "nd = np.random.normal (loc, sc, 25000)\n",
    "\n",
    "#Plot the Normal Distribution\n",
    "count, bins, ignored = plt.hist(nd, 50, density=True)\n",
    "plt.plot(bins, 1/(sc * np.sqrt(2 * np.pi)) * np.exp( - (bins - loc)**2 / (2 * sc**2) ), linewidth=2, color='g')\n",
    "plt.show()"
   ]
  },
  {
   "cell_type": "markdown",
   "metadata": {},
   "source": [
    "## Standard Normal Distribution\n",
    "\n",
    "Another way of assessing how data is distributed is to plot if on visual aid. If we can see that the data which we are working with is easily distributed, then we will be presented with a bell curve as discussed previously in the Normal Distribution section of this assignment. \n",
    "\n",
    "As we know a bell curve has very small percentage of the points on both ends of the curve and then the bigger percentage of the data is represented in the middle part of the curve. In the standard normal distribution in and around 5 per cent of the data which we would be working with falls into the ends of the bell curve and around 90 per cent will be displayed in the middle section of the bell-shaped curve.\n",
    "\n",
    "In a real life example, we can look at a student in secondary school studying for their Leaving Certificate – the standard normal distribution can help students to comprehend what subject they are performing well in and what subject they may have to put more effort into as they may not be performing as well in that subject when we compare to the other. If students get a mark in one subject that is higher than their mark in another subject, they naturally might think that they are better in the subject where you got the higher mark in. This isn’t necassarily always the case. \n",
    "\n",
    "\n",
    "Secondary school students (and anyone in general) can only say that they are better in a particular subject, if they get a mark which has a certain number of standard deviations above the mean. The standard deviation tells them how tightly their grades are clustered around the mean; It can allow them to compare different distributions that have different types of data — including different means.\n",
    "\n",
    "For example, if a student gets a mark of 80 in Irish and 90 in Economics, they might think that they are better in Economics than in Irish. However, in Irish, their mark is 2 standard deviations above the mean. In Economics it’s only one standard deviation above the mean. This can tell us that in Irish, the students mark is exceptionally higher than most of the students who are taking this subject (their mark falls into the tail section (the ends of the bell curve)).\n",
    " \n"
   ]
  },
  {
   "cell_type": "markdown",
   "metadata": {},
   "source": [
    "The condition that is normally used in Standard Normal Distribution is size - however it is not a necessity. Similar to Normal Distribution, size should be integer or a series of integers."
   ]
  },
  {
   "cell_type": "code",
   "execution_count": 26,
   "metadata": {},
   "outputs": [
    {
     "data": {
      "text/plain": [
       "array([-2.30533537, -1.02195776, -0.88051315, ..., -1.13434595,\n",
       "        1.54681936, -1.61187188])"
      ]
     },
     "execution_count": 26,
     "metadata": {},
     "output_type": "execute_result"
    }
   ],
   "source": [
    "snd = np.random.standard_normal (27500)\n",
    "\n",
    "snd"
   ]
  },
  {
   "cell_type": "markdown",
   "metadata": {},
   "source": [
    "## Uniform Distribution\n",
    "\n",
    "Uniform Distribution is also known as rectangular distribution and is a probability distribution which has what is known as constant probability. Uniform distribution is defined by two requirements, a and b where a is the minimum and b is the maximum.\n",
    "\n",
    "Uniform distribution has two distinct classifications. Continuous uniform Distribution being the more popular of the two. The second classification which is known as Discrete Uniform Distribution. Similar to the continuous, discrete looks like a rectangle but a series of dots (which are referred to as “known, finite number of outcomes” are used to represent the points instead of the line which is used in Continuous.\n",
    "\n",
    "A real-life example of discrete uniform distribution would be rolling a dice. When you roll a dice there are six possible outcomes of that roll – 1, 2, 3, 4, 5 or 6 – each number has a 1/6 chance of being rolled.\n"
   ]
  },
  {
   "cell_type": "code",
   "execution_count": 33,
   "metadata": {
    "scrolled": true
   },
   "outputs": [
    {
     "data": {
      "image/png": "[encoded data removed]",
      "text/plain": [
       "<Figure size 432x288 with 1 Axes>"
      ]
     },
     "metadata": {
      "needs_background": "light"
     },
     "output_type": "display_data"
    }
   ],
   "source": [
    "\n",
    "u = np.random.uniform(-1,0,2750)\n",
    "#All values are within the given interval:\n",
    "np.all(u >= -1)\n",
    "\n",
    "np.all(u < 0)\n",
    "\n",
    "#Display the histogram of the samples, along with the probability density function:\n",
    "\n",
    "count, bins, ignored = plt.hist(u, 15, density=True)\n",
    "plt.plot(bins, np.ones_like(bins), linewidth=5, color='g')\n",
    "plt.show()"
   ]
  },
  {
   "cell_type": "markdown",
   "metadata": {},
   "source": [
    "## Binomial Distribution\n",
    "\n",
    "The easiest way to understand binomial distribution is to think of it as the probability of an outcome being a SUCCESS or a FAILURE in an experiment that can be repeated on numerous occasions. Binomial is a strain of distribution that has only two possible outcomes. A real life example would be taking your driving test, as it can only have two possible outcomes: pass or fail.\n",
    "\n",
    "Binomial consists of two variables. The first variable in the binomial formula, n, and this represents the number of times an experiment will run for. The second variable, p, represents the probability of one specific outcome. An example of this would be that you wanted to know the probability of getting a 1 when rolling a dice. If you rolled a dice 20 times, the probability of rolling a one on any throw is 1/6. If you roll the dice twenty times one after another, you have a binomial distribution of (n=20, p=1/6). SUCCESS would be “roll a one” and FAILURE would be “roll everything else except a one.” If you wanted to know what the probability was of the dice landing on 2, 4 or 6, then the binomial distribution would be (n=20, p=1/2). That’s because the probability of throwing an even number is one half and the even numbers account for 3 of the 6 numbers on a dice."
   ]
  },
  {
   "cell_type": "code",
   "execution_count": 34,
   "metadata": {},
   "outputs": [
    {
     "name": "stdout",
     "output_type": "stream",
     "text": [
      "[5 3 7 5 3 6 4 6 5 4 5 5 5 3 7 3 4 4 5 7 5 5 6 6 5 6 5 7 6 4 3 6 4 6 6 5 3\n",
      " 6 6 5 5 5 8 5 6 7 5 7 4 7 4 5 3 5 3 2 4 2 5 4 6 8 8 6 4 5 3 6 6 7 5 6 2 5\n",
      " 1 4 6 2 2 5 6 4 5 3 5 3 6 7 4 6 7 5 3 4 7 4 2 3 6 3 4 7 5 5 5 4 5 6 5 6 3\n",
      " 7 3 5 5 7 4 4 5 5 5 5 4 5 5 4 3 8 6 2 3 3 3 5 3 6 6 6 6 2 4 6 5 8 7 5 0 3\n",
      " 5 4 6 5 4 5 5 6 7 5 3 4 5 8 6 3 5 6 3 6 5 7 7 3 5 4 6 5 6 5 4 8 6 5 4 4 3\n",
      " 7 3 4 5 4 3 2 8 2 5 7 3 5 5 4 5 6 7 4 8 7 6 6 3 5 5 6 7 4 3 6 5 6 9 5 7 5\n",
      " 5 3 3 6 6 6 5 4 5 5 6 6 4 9 6 3 5 8 5 4 2 4 7 2 5 5 5 3 3 8 7 4 8 5 7 6 2\n",
      " 2 7 7 1 6 6 6 3 4 7 6 5 4 2 2 3 6 3 7 3 5 5 3 4 5 5 5 6 4 3 7 5 6 3 5 5 6\n",
      " 7 5 6 3 5 7 6 1 4 5 6 3 2 5 5 5 6 5 7 5 7 5 6 6 5 3 6 5 5 3 6 7 3 6 3 4 4\n",
      " 6 4 5 4 1 8 4 4 6 5 5 2 2 6 7 6 3 6 4 5 6 6 6 7 4 6 5 4 6 4 4 4 6 6 5 6 6\n",
      " 5 7 8 8 3 7 5 6 5 4 5 6 6 6 2 6 6 6 8 6 9 2 4 2 8 7 6 4 6 4 8 5 3 5 4 4 4\n",
      " 4 5 8 5 3 5 4 5 7 6 5 7 5 4 4 4 4 7 7 5 7 6 6 6 7 7 4 7 5 4 4 5 6 8 6 6 5\n",
      " 6 6 5 2 9 6 7 3 6 4 9 7 2 6 4 4 7 4 8 9 3 6 5 4 7 3 7 7 5 1 8 6 3 7 8 1 8\n",
      " 9 6 4 5 7 8 5 3 3 3 6 9 6 6 4 6 5 4 4]\n"
     ]
    },
    {
     "data": {
      "image/png": "[encoded data removed]",
      "text/plain": [
       "<Figure size 432x288 with 2 Axes>"
      ]
     },
     "metadata": {
      "needs_background": "light"
     },
     "output_type": "display_data"
    }
   ],
   "source": [
    "# Binomial example - flipping coin\n",
    "\n",
    "\n",
    "#Flipping coin example\n",
    "#n, p, k = 10, 0.5, 1000 ( n= number of trials, p= probability of each trial, k = tested 500 times)\n",
    "n = 10\n",
    "p = 0.5\n",
    "k = 500\n",
    "binomial_coin = np.random.binomial (n,p,k) \n",
    "\n",
    "print (binomial_coin)\n",
    "\n",
    "# Plot the Binomial Distribution\n",
    "plt.figure()\n",
    "plt.subplot(1,2,1)\n",
    "plt.plot(binomial_coin, 'go--', alpha=0.5)\n",
    "plt.ylim(0,np.max(binomial_coin)+1)\n",
    "plt.xlabel('Number of times tested')\n",
    "plt.ylabel('r successes')\n",
    "plt.grid()\n",
    "plt.subplot(1,2,2)\n",
    "nB, dum, dum = plt.hist(binomial_coin, bins=50,color='r',alpha=0.5)\n",
    "\n",
    "#plt.xlim(0,n)\n",
    "plt.xlabel('r successes')\n",
    "plt.ylabel('Frequency')\n",
    "plt.title('n=%i, p=%.2f, N=%i experiments' % (n,p,k))\n",
    "plt.grid()\n"
   ]
  },
  {
   "cell_type": "code",
   "execution_count": null,
   "metadata": {},
   "outputs": [],
   "source": []
  }
 ],
 "metadata": {
  "kernelspec": {
   "display_name": "Python 3",
   "language": "python",
   "name": "python3"
  },
  "language_info": {
   "codemirror_mode": {
    "name": "ipython",
    "version": 3
   },
   "file_extension": ".py",
   "mimetype": "text/x-python",
   "name": "python",
   "nbconvert_exporter": "python",
   "pygments_lexer": "ipython3",
   "version": "3.7.0"
  }
 },
 "nbformat": 4,
 "nbformat_minor": 2
}
