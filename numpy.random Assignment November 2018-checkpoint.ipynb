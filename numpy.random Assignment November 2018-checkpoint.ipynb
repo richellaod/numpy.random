{
 "cells": [
  {
   "cell_type": "markdown",
   "metadata": {},
   "source": [
    "# Programming for Data Analysis Assignment November 2018"
   ]
  },
  {
   "cell_type": "markdown",
   "metadata": {},
   "source": [
    "## Richella O'Driscoll"
   ]
  },
  {
   "cell_type": "markdown",
   "metadata": {},
   "source": [
    "## H.Dip in Data Analytics"
   ]
  },
  {
   "cell_type": "markdown",
   "metadata": {},
   "source": [
    "## Problem Statement\n",
    "\n",
    "The following assignment concerns the numpy.random package in Python. I am required to create a Jupyter notebook explaining the use of the package, including detailed explanation of at least five of the distributions provided for in the package.\n",
    "There are four distinct tasks which must be carried out in the Jupyter notebook:\n",
    "\n",
    "* Explain the overall purpose of the package\n",
    "* Explain the use of the \"Simple Random Data\" and \"Permutations\" functions\n",
    "* Explain the use and purpose of at least five \"Distributions\" functions\n",
    "* Explain the use of seeds in generating pseudorandom numbers\n"
   ]
  },
  {
   "cell_type": "markdown",
   "metadata": {},
   "source": [
    "# Purpose of NumPy.random package"
   ]
  },
  {
   "cell_type": "markdown",
   "metadata": {},
   "source": [
    "NumPy is a popular data analysis package that is used with through the Python programming language. When we use numpy we can speed up workflow by a significant percentage and also, use alongside other popular python packages such as scikit-learn.\n",
    "\n",
    "What NumPy is, is a Python library which provides a multidimensional array object, various derived objects (like matrices and masked arrays), and also an assortment of routines for extremely fast operations on arrays, which includes mathematical, logical, shape manipulation, random simulation sorting and basic linear algebra.\n",
    "\n",
    "NumPy was released in 2006 by a number of contributors such as David Ascher, Konrad Hinsen and Travis Oliphant, Paul Dubois, Jim Hugunin and Jim Fulton and was an updated version of a previous package known as “Numeric”. Almost all machine learning or data analysis packages that are available in Python leverage NumPy is one way or another."
   ]
  },
  {
   "cell_type": "markdown",
   "metadata": {},
   "source": [
    "## My Analysis\n",
    "\n",
    "In order for me to compete this assignment, there were a number of resources I needed. These included:\n",
    "* Jupyter Notebook\n",
    "* Github\n",
    "* Python version 3.6 downloaded through Anaconda3\n",
    "\n",
    "\n",
    "After a lot of research I realised that I would also need to ensure that there was a number of other libraries installed on Python so that I would be able to complete this assignment. These included matplotlib, numpy and pandas."
   ]
  },
  {
   "cell_type": "markdown",
   "metadata": {},
   "source": [
    "# The use of \"Simple Random Data\" and \"Permutations\" Functions"
   ]
  },
  {
   "cell_type": "markdown",
   "metadata": {},
   "source": [
    "# Simple Random Data\n",
    "\n",
    "Simple Random Data generates random values depending on which specific function you choose to select. There are ten functions within Simple Random Data that can be used the generate random data. These include:\n",
    "\n",
    "* rand(d0, d1, ..., dn)  which returns random values in a given shape.\n",
    "* randint(low[, high, size, dtype]) which returns random integers from low (inclusive) to high (exclusive).\n",
    "* random([size]) [0.0, 1.0) which returns random floats in the half-open interval.\n",
    "* randn(d0, d1, ..., dn)  which returns a sample (or samples) from the “standard normal” distribution.\n",
    "\n"
   ]
  },
  {
   "cell_type": "markdown",
   "metadata": {},
   "source": [
    "# Permutations\n",
    "\n",
    "There are two functions which can be used under Permutations - Permutations and the Shuffle Function."
   ]
  },
  {
   "cell_type": "markdown",
   "metadata": {},
   "source": [
    "## Permutations\n",
    "\n",
    "What permutations does is, it adjusts a series of numbers in a completely random manner. \n",
    "\n",
    "There are three main ways in which it can do this. The first being, if the order of numbers selected is a multi-dimensional array, it will display an array that was shuffled onward its first index. Secondly, if the order of numbers is an array, the function will display a shuffled version of the array. Finally if the order of numbers used is an integer, it will display the np.arange(X) in a random way.\n"
   ]
  },
  {
   "cell_type": "code",
   "execution_count": 26,
   "metadata": {},
   "outputs": [],
   "source": [
    "import pandas as pd  \n",
    "import matplotlib.pyplot as plt  \n",
    "import seaborn as sns  \n",
    "import numpy as np  "
   ]
  },
  {
   "cell_type": "code",
   "execution_count": 17,
   "metadata": {},
   "outputs": [
    {
     "data": {
      "text/plain": [
       "array([23, 25, 11, 32, 16, 10, 35, 13, 19, 27,  4, 30, 24, 26, 15, 21, 28,\n",
       "       34, 36,  1, 12, 29, 33,  9,  3,  8, 18, 31, 22,  6,  7, 17, 14,  0,\n",
       "       20,  2,  5])"
      ]
     },
     "execution_count": 17,
     "metadata": {},
     "output_type": "execute_result"
    }
   ],
   "source": [
    "#Example of Permutation Function\n",
    "\n",
    "np.random.permutation(37) #Display all numbers between 0 and 36 in a random manner"
   ]
  },
  {
   "cell_type": "code",
   "execution_count": 27,
   "metadata": {},
   "outputs": [
    {
     "data": {
      "text/plain": [
       "array([  1, 567, 104, 810, 256,   4,  88,   7])"
      ]
     },
     "execution_count": 27,
     "metadata": {},
     "output_type": "execute_result"
    }
   ],
   "source": [
    "np.random.permutation ([1, 4, 7, 88, 104, 256, 567, 810]) #Display all numbers selected in a random manner"
   ]
  },
  {
   "cell_type": "markdown",
   "metadata": {},
   "source": [
    "## Shuffle Function\n",
    "\n",
    "The shuffle function within permutations changes the order in which the numbers appear, it does not change the numbers within the array itself. It shuffles its contents – Hence the name."
   ]
  },
  {
   "cell_type": "code",
   "execution_count": 28,
   "metadata": {},
   "outputs": [
    {
     "data": {
      "text/plain": [
       "array([[0.0935515 , 0.69482365],\n",
       "       [0.14537014, 0.4531723 ],\n",
       "       [0.21557701, 0.35390507],\n",
       "       [0.49263593, 0.91330145],\n",
       "       [0.76582638, 0.97364827],\n",
       "       [0.40236064, 0.55277195],\n",
       "       [0.30636063, 0.58661997],\n",
       "       [0.27492011, 0.45460777],\n",
       "       [0.75766525, 0.81757073],\n",
       "       [0.25758529, 0.89306511],\n",
       "       [0.71842202, 0.0206145 ],\n",
       "       [0.14271733, 0.32530618]])"
      ]
     },
     "execution_count": 28,
     "metadata": {},
     "output_type": "execute_result"
    }
   ],
   "source": [
    "#Example of the Shuffle Function\n",
    "\n",
    "R = np.random.random((12, 2))\n",
    "\n",
    "R"
   ]
  },
  {
   "cell_type": "code",
   "execution_count": 16,
   "metadata": {},
   "outputs": [
    {
     "data": {
      "text/plain": [
       "array([[0.70479125, 0.84458364],\n",
       "       [0.67878369, 0.93630988],\n",
       "       [0.26174153, 0.28637673],\n",
       "       [0.97349805, 0.83766907],\n",
       "       [0.31508555, 0.05141688],\n",
       "       [0.23392012, 0.95369294],\n",
       "       [0.12408934, 0.38267015],\n",
       "       [0.91337772, 0.26101873],\n",
       "       [0.7282226 , 0.42485199],\n",
       "       [0.74843879, 0.84438948],\n",
       "       [0.99713465, 0.61772279],\n",
       "       [0.82255449, 0.37285371]])"
      ]
     },
     "execution_count": 16,
     "metadata": {},
     "output_type": "execute_result"
    }
   ],
   "source": [
    "np.random.shuffle (R)\n",
    "\n",
    "R"
   ]
  },
  {
   "cell_type": "markdown",
   "metadata": {},
   "source": [
    "# The use and purpose of at least five \"Distributions\" functions"
   ]
  },
  {
   "cell_type": "markdown",
   "metadata": {},
   "source": [
    "There are over 30 different so-called distributions functions available in the NumPy.random package. All of these are in some way related to different probability distributions. For the purpose of this assignment the 5 which I will focus on are:\n",
    "\n",
    "1.\tNormal Distribution\n",
    "2.\tStandard Normal Distribution\n",
    "3.\tUniform Distribution\n",
    "4.\tBinomial Distribution\n",
    "5.\tPoisson Distribution\n",
    "\n"
   ]
  },
  {
   "cell_type": "markdown",
   "metadata": {},
   "source": [
    "# Normal Distribution\n",
    "\n",
    "A normal distribution, which is sometimes called the bell curve, is a distribution that can occur naturally in a number of situations. For example, the bell curve is seen in tests like the Leaving Certificate. The majority of students who undertake these exams will score the average  grade which is a C, while a smaller percentage of students will achieve a grade of a D or B. Then an even smaller percentage of students achieve a grade of an A or an F. As a result, this leads to the creation of a distribution that looks like a bell.\n",
    "\n",
    "As we all know a bell curve is symmetrical. This means that 50 per cent of the results will fall to the left of the mean; 50 per cent will fall to the right.\n",
    "\n",
    "Normal Distributions is widely used by government and statistics bodies. It can be used to measure Points on a test, Salaries. Blood pressure and IQ scores.\n",
    "\n",
    "The empirical rule which states that for a normal distribution, nearly all of the data will fall within three standard deviations of the mean. tells you what percentage of your data falls within a certain number of standard deviations from the mean:• 68% of the data falls within one standard deviation of the mean.• 95% of the data falls within two standard deviations of the mean.• 99.7% of the data falls within three standard deviations of the mean.\n"
   ]
  },
  {
   "cell_type": "markdown",
   "metadata": {},
   "source": [
    "The conditions that are normally used in Normal Distribution are loc (which is the mean/average of the distribution), scale (which is the Standard Deviation of the distribution) and size. Loc and scale will normally be a float or an array of floats, while size should be integer or a series of integers."
   ]
  },
  {
   "cell_type": "code",
   "execution_count": 25,
   "metadata": {},
   "outputs": [
    {
     "data": {
      "image/png": "[encoded data removed]",
      "text/plain": [
       "<Figure size 432x288 with 1 Axes>"
      ]
     },
     "metadata": {
      "needs_background": "light"
     },
     "output_type": "display_data"
    }
   ],
   "source": [
    "loc = 0\n",
    "sc = 0.25\n",
    "nd = np.random.normal (loc, sc, 25000)\n",
    "\n",
    "#Plot the Normal Distribution\n",
    "count, bins, ignored = plt.hist(nd, 50, density=True)\n",
    "plt.plot(bins, 1/(sc * np.sqrt(2 * np.pi)) * np.exp( - (bins - loc)**2 / (2 * sc**2) ), linewidth=2, color='g')\n",
    "plt.show()"
   ]
  },
  {
   "cell_type": "markdown",
   "metadata": {},
   "source": [
    "## Standard Normal Distribution\n",
    "\n",
    "Another way of assessing how data is distributed is to plot if on visual aid. If we can see that the data which we are working with is easily distributed, then we will be presented with a bell curve as discussed previously in the Normal Distribution section of this assignment. \n",
    "\n",
    "As we know a bell curve has very small percentage of the points on both ends of the curve and then the bigger percentage of the data is represented in the middle part of the curve. In the standard normal distribution in and around 5 per cent of the data which we would be working with falls into the ends of the bell curve and around 90 per cent will be displayed in the middle section of the bell-shaped curve.\n",
    "\n",
    "In a real life example, we can look at a student in secondary school studying for their Leaving Certificate – the standard normal distribution can help students to comprehend what subject they are performing well in and what subject they may have to put more effort into as they may not be performing as well in that subject when we compare to the other. If students get a mark in one subject that is higher than their mark in another subject, they naturally might think that they are better in the subject where you got the higher mark in. This isn’t necassarily always the case. \n",
    "\n",
    "\n",
    "Secondary school students (and anyone in general) can only say that they are better in a particular subject, if they get a mark which has a certain number of standard deviations above the mean. The standard deviation tells them how tightly their grades are clustered around the mean; It can allow them to compare different distributions that have different types of data — including different means.\n",
    "\n",
    "For example, if a student gets a mark of 80 in Irish and 90 in Economics, they might think that they are better in Economics than in Irish. However, in Irish, their mark is 2 standard deviations above the mean. In Economics it’s only one standard deviation above the mean. This can tell us that in Irish, the students mark is exceptionally higher than most of the students who are taking this subject (their mark falls into the tail section (the ends of the bell curve)).\n",
    " \n"
   ]
  },
  {
   "cell_type": "markdown",
   "metadata": {},
   "source": [
    "The condition that is normally used in Standard Normal Distribution is size - however it is not a necessity. Similar to Normal Distribution, size should be integer or a series of integers."
   ]
  },
  {
   "cell_type": "code",
   "execution_count": 26,
   "metadata": {},
   "outputs": [
    {
     "data": {
      "text/plain": [
       "array([-2.30533537, -1.02195776, -0.88051315, ..., -1.13434595,\n",
       "        1.54681936, -1.61187188])"
      ]
     },
     "execution_count": 26,
     "metadata": {},
     "output_type": "execute_result"
    }
   ],
   "source": [
    "snd = np.random.standard_normal (27500)\n",
    "\n",
    "snd"
   ]
  },
  {
   "cell_type": "markdown",
   "metadata": {},
   "source": [
    "## Uniform Distribution\n",
    "\n",
    "Uniform Distribution is also known as rectangular distribution and is a probability distribution which has what is known as constant probability. Uniform distribution is defined by two requirements, a and b where a is the minimum and b is the maximum.\n",
    "\n",
    "Uniform distribution has two distinct classifications. Continuous uniform Distribution being the more popular of the two. The second classification which is known as Discrete Uniform Distribution. Similar to the continuous, discrete looks like a rectangle but a series of dots (which are referred to as “known, finite number of outcomes” are used to represent the points instead of the line which is used in Continuous.\n",
    "\n",
    "A real-life example of discrete uniform distribution would be rolling a dice. When you roll a dice there are six possible outcomes of that roll – 1, 2, 3, 4, 5 or 6 – each number has a 1/6 chance of being rolled.\n"
   ]
  },
  {
   "cell_type": "code",
   "execution_count": 33,
   "metadata": {
    "scrolled": true
   },
   "outputs": [
    {
     "data": {
      "image/png": "[encoded data removed]",
      "text/plain": [
       "<Figure size 432x288 with 1 Axes>"
      ]
     },
     "metadata": {
      "needs_background": "light"
     },
     "output_type": "display_data"
    }
   ],
   "source": [
    "\n",
    "u = np.random.uniform(-1,0,2750)\n",
    "#All values are within the given interval:\n",
    "np.all(u >= -1)\n",
    "\n",
    "np.all(u < 0)\n",
    "\n",
    "#Display the histogram of the samples, along with the probability density function:\n",
    "\n",
    "count, bins, ignored = plt.hist(u, 15, density=True)\n",
    "plt.plot(bins, np.ones_like(bins), linewidth=5, color='g')\n",
    "plt.show()"
   ]
  },
  {
   "cell_type": "markdown",
   "metadata": {},
   "source": [
    "## Binomial Distribution\n",
    "\n",
    "The easiest way to understand binomial distribution is to think of it as the probability of an outcome being a SUCCESS or a FAILURE in an experiment that can be repeated on numerous occasions. Binomial is a strain of distribution that has only two possible outcomes. A real life example would be taking your driving test, as it can only have two possible outcomes: pass or fail.\n",
    "\n",
    "Binomial consists of two variables. The first variable in the binomial formula, n, and this represents the number of times an experiment will run for. The second variable, p, represents the probability of one specific outcome. An example of this would be that you wanted to know the probability of getting a 1 when rolling a dice. If you rolled a dice 20 times, the probability of rolling a one on any throw is 1/6. If you roll the dice twenty times one after another, you have a binomial distribution of (n=20, p=1/6). SUCCESS would be “roll a one” and FAILURE would be “roll everything else except a one.” If you wanted to know what the probability was of the dice landing on 2, 4 or 6, then the binomial distribution would be (n=20, p=1/2). That’s because the probability of throwing an even number is one half and the even numbers account for 3 of the 6 numbers on a dice.\n",
    "\n",
    "Conditions that are necessary for the BN are n (number of trials), p (probability) and size (number of times that the experiment will happen)."
   ]
  },
  {
   "cell_type": "code",
   "execution_count": 10,
   "metadata": {},
   "outputs": [
    {
     "name": "stdout",
     "output_type": "stream",
     "text": [
      "[ 8 10  8  3 12 10  5 11  6 14 11 11 10 11  9 10 10 11  9  9  8 13 13 10\n",
      "  8 12  8 10  9  8  9  8 10  6 10  9  7  7  8 11  9  6  8 11  9  9 10 14\n",
      " 13  9 10  8 12 11  5 10 12 11 11 11  9 10 11 13 13  6  9 11 12  6 10  8\n",
      " 12 10 11 10 10 11 10 10 14  8  7 10 10  8  9 11 12  9  9 10  9 10 11 10\n",
      "  7  8 10 13 10  9 11 12 10  6 12 14 11  8  7 12 10  6 12 10 13  7  8  7\n",
      "  6 13  9 13 11 11 13 14 10  9  7  9 14 15  9 12 12 12  8  7  9  5 11  8\n",
      "  5 10  9 12 13  9 11 11  9  6 13 12 10 10 13 12 11  9 12 15 11 12  8 12\n",
      "  8 10 13  6 14 13 10 12  9 11 10 11  9 13  9 10  9 10  9 12  9  9 11 10\n",
      "  9 10 10  9 12 10  9  9 12 11 10 10 12 13 14 11  7  7 11 10  9  9  9  5\n",
      " 10  9 10 12 12 16  6  7 10  9 11  7 13  7 12  9 15 12  9 11 13  8 11 10\n",
      "  9 10 13 12  6 11 17 11 10  9  9  9 16 10  8  8  8 12  9 11 12 13 12  8\n",
      " 10 10 12 10 14 11  8 11  9 10 12  8 15  9 14  9 10  8 12  8  7  7 13 10\n",
      " 13  9  9 14 10 12  9  9 11 14  8 10  8 10  9  9 11 13  9 10 12 10  8  9\n",
      "  7  6 12 13 15 10  7  9 10 10 10 11 12  9 10 12 11  8 14 11 11  9  9  8\n",
      " 10 12 10  6 10 13 15 10  9 10 10 11 11  7 11 10 14  8 11 12  8 10  7 10\n",
      " 10 10 10 10 11 11 10  8 13 10  9  9  8 10  7  9 12 10 12  9 14 13 11 13\n",
      "  8  7 14 12  7 11  9  8  8  7  8  9 15 12 12  9  9 11 10  8  7  8 10  6\n",
      "  5  7 14  5 10  6 13  6 11 12  9  8 15 12  7  8 12  9  9  9 13 13  7  9\n",
      " 13 10 12  8  7  7 10  8  9  7 11 13 10  6 12 14  8  9 16  8 11 14 14 11\n",
      " 14 13 11 14 12 13  6 10 10 16  9 11 15 13 12  9 11 10 10 12 10  9  8  6\n",
      " 12  7 11  9  9 10 10 10 12 15  9 11 12 14  8  9 12 11 15  6]\n"
     ]
    },
    {
     "data": {
      "image/png": "[encoded data removed]",
      "text/plain": [
       "<Figure size 432x288 with 2 Axes>"
      ]
     },
     "metadata": {
      "needs_background": "light"
     },
     "output_type": "display_data"
    }
   ],
   "source": [
    "# Binomial example - coin toss at the start of a hurling match\n",
    "\n",
    "import pandas as pd \n",
    "import matplotlib.pyplot as plt  \n",
    "import seaborn as sns \n",
    "import numpy as np\n",
    "\n",
    "# Coin toss at the start of a hurling match\n",
    "#n, p, k = 20, 0.5, 500 ( n= number of trials, p= probability of each trial, k = tested 500 times)\n",
    "n = 20\n",
    "p = 0.5\n",
    "k = 500\n",
    "binomial_coin = np.random.binomial (n,p,k) \n",
    "\n",
    "print (binomial_coin)\n",
    "\n",
    "# Plot the Distribution\n",
    "plt.figure()\n",
    "plt.subplot(1,2,1)\n",
    "plt.plot(binomial_coin, 'go--', alpha=0.5)\n",
    "plt.ylim(0,np.max(binomial_coin)+1)\n",
    "plt.xlabel('Number of times tested')\n",
    "plt.ylabel('r successes')\n",
    "plt.grid()\n",
    "plt.subplot(1,2,2)\n",
    "nB, dum, dum = plt.hist(binomial_coin, bins=50,color='g',alpha=0.5)\n",
    "\n",
    "#plt.xlim(0,n)\n",
    "plt.xlabel('r successes')\n",
    "plt.ylabel('Frequency')\n",
    "plt.title('n=%i, p=%.2f, N=%i experiments' % (n,p,k))\n",
    "plt.grid()\n"
   ]
  },
  {
   "cell_type": "markdown",
   "metadata": {},
   "source": [
    "## Poisson Distribution\n",
    "\n",
    "Poisson Distribution enables us to anticipate the probability specific events from taking place when you have a good idea of how frequent these events would take place. What it does is it gives us the probability of a certain number of events occurring in a set period of time.\n",
    "\n",
    "A pub sells an average of around 300 drinks every Friday evening. From this data we can predict that they will sell more drinks (possibly 350/400) the following Friday evening. We can also use the example of the number of customers in a café. If for example the average number of customers spread out over the week is 350, we can anticipate the probability of one specific day of the week having more custom than another.\n",
    "\n",
    "Poisson is also used for forecasting customers and sales in business – for example for race week in Galway, there is an influx of racegoers to the city. Pubs and hotels would hire extra staff for the week to facilitate the extra strain on their existing resources. They would also purchase extra stock in advance to prevent them from running out. Poisson helps these types of businesses as it allows them to adjust their existing supply to meet anticipated demand and also works in the opposite way to ensure that resources do not go to waste.\n"
   ]
  },
  {
   "cell_type": "code",
   "execution_count": 14,
   "metadata": {},
   "outputs": [
    {
     "data": {
      "text/plain": [
       "[Text(0,0.5,'Frequency'), Text(0.5,0,'Poisson')]"
      ]
     },
     "execution_count": 14,
     "metadata": {},
     "output_type": "execute_result"
    },
    {
     "data": {
      "image/png": "[encoded data removed]",
      "text/plain": [
       "<Figure size 432x288 with 1 Axes>"
      ]
     },
     "metadata": {
      "needs_background": "light"
     },
     "output_type": "display_data"
    }
   ],
   "source": [
    "\n",
    "mu = 6\n",
    "size = 14500\n",
    "\n",
    "# Create an array of 14500 elements each drawn from a poissonian probability density function for a mean value of 0.6.\n",
    "poisson = np.random.poisson(mu,size)\n",
    "\n",
    "#Plot the Distribution\n",
    "ax = sns.distplot(poisson, bins = 20, kde=False, color='r', hist_kws={\"linewidth\": 20,'alpha':1})\n",
    "ax.set(xlabel='Poisson', ylabel='Frequency')"
   ]
  },
  {
   "cell_type": "markdown",
   "metadata": {},
   "source": [
    "# Use of seeds in generating pseudorandom numbers\n",
    "\n",
    "The random function in returns a super-fast pseudorandom number generator that derives from the algorithm known as “Mersenne Twister”. This was initially created to create data for the Monte Carlo simulations. It produces numbers with uniform distribution and a large period which make it suitable to be used across an extensive range of applications.\n",
    "\n",
    "If you run this program multiple times it will always produce a different sequence of numbers.\n",
    "\n",
    "To generate numbers that fall in under a specific range, I would use the uniform() function to do this. random() tends to generate different numbers each time it is used and it takes a lot of generating and time before it will start to repeat values it has already produced. This function would be widely used for producing unique numbers.\n",
    "\n",
    "The seed function enables us to generate random numbers and save that dataset. Seeds control the first number that is created by the formula which is used to create these pseudo random numbers which also saves that data set after we change the seed. \n"
   ]
  },
  {
   "cell_type": "markdown",
   "metadata": {},
   "source": [
    "## How to seed the pseudorandom number generator"
   ]
  },
  {
   "cell_type": "code",
   "execution_count": 20,
   "metadata": {},
   "outputs": [
    {
     "name": "stdout",
     "output_type": "stream",
     "text": [
      "0.23796462709189137 0.5442292252959519 0.36995516654807925\n",
      "0.6229016948897019 0.7417869892607294 0.7951935655656966\n"
     ]
    }
   ],
   "source": [
    "\n",
    "from random import seed\n",
    "from random import random\n",
    "# seed random number generator\n",
    "seed(3)\n",
    "# generate some random numbers\n",
    "print(random(), random(), random())\n",
    "# reset the seed\n",
    "seed(5)\n",
    "# generate some random numbers\n",
    "print(random(), random(), random())"
   ]
  },
  {
   "cell_type": "code",
   "execution_count": 25,
   "metadata": {},
   "outputs": [
    {
     "name": "stdout",
     "output_type": "stream",
     "text": [
      "[0.5507979  0.70814782 0.29090474 0.51082761 0.89294695]\n",
      "[0.5507979  0.70814782 0.29090474 0.51082761 0.89294695]\n"
     ]
    }
   ],
   "source": [
    "\n",
    "# seed random number generator\n",
    "seed(3)\n",
    "# generate some random numbers\n",
    "print(rand(5))\n",
    "# reset the seed\n",
    "seed(3)\n",
    "# generate some random numbers\n",
    "print(rand(5))"
   ]
  },
  {
   "cell_type": "markdown",
   "metadata": {},
   "source": [
    "## How to reshuffle a specific sequence"
   ]
  },
  {
   "cell_type": "code",
   "execution_count": 21,
   "metadata": {},
   "outputs": [
    {
     "name": "stdout",
     "output_type": "stream",
     "text": [
      "[0, 1, 2, 3, 4, 5, 6, 7, 8, 9, 10, 11, 12, 13, 14, 15, 16, 17, 18, 19, 20, 21, 22, 23, 24, 25, 26, 27, 28, 29, 30, 31, 32, 33, 34, 35, 36, 37, 38, 39, 40, 41, 42, 43, 44, 45, 46, 47, 48, 49]\n",
      "[2, 15, 47, 9, 21, 29, 48, 5, 46, 14, 11, 32, 34, 26, 49, 19, 39, 38, 12, 22, 37, 20, 42, 35, 33, 10, 3, 18, 45, 25, 23, 17, 43, 0, 27, 40, 1, 44, 6, 13, 24, 41, 30, 28, 31, 7, 16, 4, 36, 8]\n"
     ]
    }
   ],
   "source": [
    "# randomly shuffle a sequence\n",
    "from random import seed\n",
    "from random import shuffle\n",
    "# seed random number generator\n",
    "seed(1)\n",
    "# prepare a sequence\n",
    "sequence = [i for i in range(50)]\n",
    "print(sequence)\n",
    "# randomly shuffle the sequence\n",
    "shuffle(sequence)\n",
    "print(sequence)"
   ]
  },
  {
   "cell_type": "code",
   "execution_count": null,
   "metadata": {},
   "outputs": [],
   "source": []
  }
 ],
 "metadata": {
  "kernelspec": {
   "display_name": "Python 3",
   "language": "python",
   "name": "python3"
  },
  "language_info": {
   "codemirror_mode": {
    "name": "ipython",
    "version": 3
   },
   "file_extension": ".py",
   "mimetype": "text/x-python",
   "name": "python",
   "nbconvert_exporter": "python",
   "pygments_lexer": "ipython3",
   "version": "3.7.0"
  }
 },
 "nbformat": 4,
 "nbformat_minor": 2
}
